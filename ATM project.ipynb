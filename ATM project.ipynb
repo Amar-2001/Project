{
 "cells": [
  {
   "cell_type": "code",
   "execution_count": 1,
   "id": "7d19e5e7-dac3-4fcf-980c-68655a3ca07a",
   "metadata": {},
   "outputs": [
    {
     "name": "stdout",
     "output_type": "stream",
     "text": [
      "Please insert your card \n",
      "==================================\n"
     ]
    },
    {
     "name": "stdin",
     "output_type": "stream",
     "text": [
      "Enter your pin :  1234\n"
     ]
    },
    {
     "name": "stdout",
     "output_type": "stream",
     "text": [
      "==================================\n",
      " Welcome to Amar's Atm\n",
      " \n",
      "===============================\n",
      "\n",
      "        Press 1 for balance enquiry\n",
      "        Press 2 for withdraw\n",
      "        Press 3 for Deposit\n",
      "        Press 4 for exit\n",
      "        \n",
      "================================\n"
     ]
    },
    {
     "name": "stdin",
     "output_type": "stream",
     "text": [
      "Enter your choice :  1\n"
     ]
    },
    {
     "name": "stdout",
     "output_type": "stream",
     "text": [
      "====================================\n",
      "Your balance is : 5000\n",
      "===============================\n",
      "\n",
      "        Press 1 for balance enquiry\n",
      "        Press 2 for withdraw\n",
      "        Press 3 for Deposit\n",
      "        Press 4 for exit\n",
      "        \n",
      "================================\n"
     ]
    },
    {
     "name": "stdin",
     "output_type": "stream",
     "text": [
      "Enter your choice :  2\n",
      "Please enter the amount you want to withdraw :  200\n"
     ]
    },
    {
     "name": "stdout",
     "output_type": "stream",
     "text": [
      "============================================\n",
      "200 is debited from your account.\n",
      "=============================================\n",
      "Your updated balance is 4800\n",
      "===============================\n",
      "\n",
      "        Press 1 for balance enquiry\n",
      "        Press 2 for withdraw\n",
      "        Press 3 for Deposit\n",
      "        Press 4 for exit\n",
      "        \n",
      "================================\n"
     ]
    },
    {
     "name": "stdin",
     "output_type": "stream",
     "text": [
      "Enter your choice :  1\n"
     ]
    },
    {
     "name": "stdout",
     "output_type": "stream",
     "text": [
      "====================================\n",
      "Your balance is : 4800\n",
      "===============================\n",
      "\n",
      "        Press 1 for balance enquiry\n",
      "        Press 2 for withdraw\n",
      "        Press 3 for Deposit\n",
      "        Press 4 for exit\n",
      "        \n",
      "================================\n"
     ]
    },
    {
     "name": "stdin",
     "output_type": "stream",
     "text": [
      "Enter your choice :  3\n",
      "Enter the amount you want to deposit :  2000\n"
     ]
    },
    {
     "name": "stdout",
     "output_type": "stream",
     "text": [
      "=========================================\n",
      "Your credited amount is : 2000\n",
      "==========================================\n",
      "Your updated balance is : 6800\n",
      "===============================\n",
      "\n",
      "        Press 1 for balance enquiry\n",
      "        Press 2 for withdraw\n",
      "        Press 3 for Deposit\n",
      "        Press 4 for exit\n",
      "        \n",
      "================================\n"
     ]
    },
    {
     "name": "stdin",
     "output_type": "stream",
     "text": [
      "Enter your choice :  1\n"
     ]
    },
    {
     "name": "stdout",
     "output_type": "stream",
     "text": [
      "====================================\n",
      "Your balance is : 6800\n",
      "===============================\n",
      "\n",
      "        Press 1 for balance enquiry\n",
      "        Press 2 for withdraw\n",
      "        Press 3 for Deposit\n",
      "        Press 4 for exit\n",
      "        \n",
      "================================\n"
     ]
    },
    {
     "name": "stdin",
     "output_type": "stream",
     "text": [
      "Enter your choice :  4\n"
     ]
    }
   ],
   "source": [
    "\n",
    "import time\n",
    "\n",
    "print(\"Please insert your card \")\n",
    "\n",
    "# wait for 5 second\n",
    "time.sleep(3)\n",
    "\n",
    "password = 1234\n",
    "\n",
    "print(\"==================================\")\n",
    "pin= int(input(\"Enter your pin : \"))\n",
    "\n",
    "print(\"==================================\")\n",
    "print(\" Welcome to Amar's Atm\\n \")\n",
    "\n",
    "balance = 5000\n",
    "\n",
    "if pin == password:\n",
    "    while True:\n",
    "        \n",
    "        print(\"===============================\")\n",
    "        print(\"\"\"\n",
    "        Press 1 for balance enquiry\n",
    "        Press 2 for withdraw\n",
    "        Press 3 for Deposit\n",
    "        Press 4 for exit\n",
    "        \"\"\")\n",
    "\n",
    "        try:\n",
    "            print(\"================================\")\n",
    "            option=int(input(\"Enter your choice : \"))\n",
    "        except:\n",
    "            print(\"=================================\")\n",
    "            print(\"Enter a valid choice : \")\n",
    "\n",
    "        if option == 1:\n",
    "            print(\"====================================\")\n",
    "            print(f\"Your balance is : {balance}\")\n",
    "        \n",
    "        if option == 2:\n",
    "            withdraw_amount=int(input('Please enter the amount you want to withdraw : '))\n",
    "            balance = balance-withdraw_amount\n",
    "\n",
    "            print(\"============================================\")\n",
    "            print(f\"{withdraw_amount} is debited from your account.\")\n",
    "            print(\"=============================================\")\n",
    "            print(f\"Your updated balance is {balance}\")\n",
    "\n",
    "        if option == 3:\n",
    "            deposit_amount=int(input(\"Enter the amount you want to deposit : \"))\n",
    "            balance=balance+deposit_amount\n",
    "\n",
    "            print(\"=========================================\")\n",
    "            print(f\"Your credited amount is : {deposit_amount}\")\n",
    "            print(\"==========================================\")\n",
    "            print(f\"Your updated balance is : {balance}\")\n",
    "        \n",
    "        if option == 4:\n",
    "            break\n",
    "else: \n",
    "    print(\"Wrong pin, Please try again \")\n",
    "\n",
    "\n",
    "\n",
    "\n",
    "\n"
   ]
  },
  {
   "cell_type": "code",
   "execution_count": null,
   "id": "cb43230e-6079-4a24-b045-242bdb6b658b",
   "metadata": {},
   "outputs": [],
   "source": [
    "\n",
    "\n"
   ]
  }
 ],
 "metadata": {
  "kernelspec": {
   "display_name": "Python 3 (ipykernel)",
   "language": "python",
   "name": "python3"
  },
  "language_info": {
   "codemirror_mode": {
    "name": "ipython",
    "version": 3
   },
   "file_extension": ".py",
   "mimetype": "text/x-python",
   "name": "python",
   "nbconvert_exporter": "python",
   "pygments_lexer": "ipython3",
   "version": "3.10.8"
  }
 },
 "nbformat": 4,
 "nbformat_minor": 5
}
